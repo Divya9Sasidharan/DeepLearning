{
  "nbformat": 4,
  "nbformat_minor": 0,
  "metadata": {
    "colab": {
      "name": "Assignment8_Autoencoders.ipynb",
      "provenance": [],
      "collapsed_sections": []
    },
    "kernelspec": {
      "name": "python3",
      "display_name": "Python 3"
    },
    "accelerator": "GPU"
  },
  "cells": [
    {
      "cell_type": "markdown",
      "metadata": {
        "id": "76AdhqhMMELt",
        "colab_type": "text"
      },
      "source": [
        "# Assignment 8 submission: Autoencoders\n",
        "\n",
        "## Group members: Divya Sasidharan, Poornima Venkatesha, Sinchana Eshwarappa Prameela"
      ]
    },
    {
      "cell_type": "markdown",
      "metadata": {
        "id": "XI0vv7QFpZl3",
        "colab_type": "text"
      },
      "source": [
        "## Autoencoders in Tensorflow\n",
        "\n",
        "Source: [Building Autoencoders in keras](https://blog.keras.io/building-autoencoders-in-keras.html)"
      ]
    },
    {
      "cell_type": "code",
      "metadata": {
        "id": "zslVRj5NMCNN",
        "colab_type": "code",
        "colab": {}
      },
      "source": [
        "%tensorflow_version 2.x "
      ],
      "execution_count": 0,
      "outputs": []
    },
    {
      "cell_type": "code",
      "metadata": {
        "id": "iSq4OKxoSs3p",
        "colab_type": "code",
        "outputId": "a20a2a53-2cae-4586-f76a-fd5cb326542b",
        "colab": {
          "base_uri": "https://localhost:8080/",
          "height": 34
        }
      },
      "source": [
        "import tensorflow as tf\n",
        "import numpy as np\n",
        "import matplotlib.pyplot as plt\n",
        "\n",
        "from keras.layers import Input, Dense\n",
        "from keras.models import Model"
      ],
      "execution_count": 0,
      "outputs": [
        {
          "output_type": "stream",
          "text": [
            "Using TensorFlow backend.\n"
          ],
          "name": "stderr"
        }
      ]
    },
    {
      "cell_type": "code",
      "metadata": {
        "id": "DeAgK1tsnUme",
        "colab_type": "code",
        "outputId": "a136f9cb-69b5-4740-f3d0-c211dadc9540",
        "colab": {
          "base_uri": "https://localhost:8080/",
          "height": 333
        }
      },
      "source": [
        "from keras.datasets import mnist\n",
        "(x_train, _), (x_test, _) = mnist.load_data() # discarding the labels (since we're only interested in encoding/decoding the input images)\n",
        "\n",
        "plt.imshow(x_train[0], cmap=\"Greys_r\")\n",
        "\n",
        "x_train = x_train.astype('float32') / 255.\n",
        "x_test = x_test.astype('float32') / 255.\n",
        "x_train = x_train.reshape((len(x_train), np.prod(x_train.shape[1:])))\n",
        "x_test = x_test.reshape((len(x_test), np.prod(x_test.shape[1:])))\n",
        "print(x_train.shape)\n",
        "print(x_test.shape)"
      ],
      "execution_count": 0,
      "outputs": [
        {
          "output_type": "stream",
          "text": [
            "Downloading data from https://s3.amazonaws.com/img-datasets/mnist.npz\n",
            "11493376/11490434 [==============================] - 1s 0us/step\n",
            "(60000, 784)\n",
            "(10000, 784)\n"
          ],
          "name": "stdout"
        },
        {
          "output_type": "display_data",
          "data": {
            "image/png": "[encoded data removed]",
            "text/plain": [
              "<Figure size 432x288 with 1 Axes>"
            ]
          },
          "metadata": {
            "tags": [],
            "needs_background": "light"
          }
        }
      ]
    },
    {
      "cell_type": "code",
      "metadata": {
        "id": "qiEO-pJQoEDA",
        "colab_type": "code",
        "colab": {}
      },
      "source": [
        "# this is the size of our encoded representations\n",
        "encoding_dim = 128  \n",
        "\n",
        "# this is our input placeholder\n",
        "input_img = Input(shape=(784,))\n",
        "# \"encoded\" is the encoded representation of the input\n",
        "encoded = Dense(encoding_dim, activation='relu')(input_img)\n",
        "encoded = Dense(int(encoding_dim/2), activation='relu')(encoded)\n",
        "encoded = Dense(int(encoding_dim/2), activation='relu')(encoded)\n",
        "encoded = Dense(int(encoding_dim/2), activation='relu')(encoded)\n",
        "encoded = Dense(int(encoding_dim/2), activation='relu')(encoded)\n",
        "\n",
        "# \"decoded\" is the lossy reconstruction of the input\n",
        "decoded = Dense(784, activation='sigmoid')(encoded) #loss 0.1099\n",
        "#decoded = Dense(784, activation='relu')(encoded) #0.0267\n",
        "#decoded = Dense(784, activation='linear')(encoded) #0.0248 #reconstructed images not clear at all\n",
        "# this model maps an input to its reconstruction\n",
        "autoencoder = Model(input_img, decoded)"
      ],
      "execution_count": 0,
      "outputs": []
    },
    {
      "cell_type": "code",
      "metadata": {
        "id": "TFtro3f5oidW",
        "colab_type": "code",
        "colab": {}
      },
      "source": [
        "# this model maps an input to its encoded representation\n",
        "encoder = Model(input_img, encoded)"
      ],
      "execution_count": 0,
      "outputs": []
    },
    {
      "cell_type": "code",
      "metadata": {
        "id": "2cW4wHwNokpK",
        "colab_type": "code",
        "colab": {}
      },
      "source": [
        "# create a placeholder for an encoded (32-dimensional) input\n",
        "encoded_input = Input(shape=(int(encoding_dim/2),))\n",
        "# retrieve the last layer of the autoencoder model\n",
        "decoder_layer = autoencoder.layers[-1]\n",
        "# create the decoder model\n",
        "decoder = Model(encoded_input, decoder_layer(encoded_input))"
      ],
      "execution_count": 0,
      "outputs": []
    },
    {
      "cell_type": "code",
      "metadata": {
        "id": "3_pAouKWooCy",
        "colab_type": "code",
        "colab": {}
      },
      "source": [
        "#use a per-pixel binary crossentropy loss, and the Adadelta optimizer\n",
        "autoencoder.compile(optimizer='adadelta', loss='binary_crossentropy') #loss 0.1099\n",
        "#autoencoder.compile(optimizer='adadelta', loss='MSE') #0.0267 -- reconstruction not perfect. distorted. few pixels missing"
      ],
      "execution_count": 0,
      "outputs": []
    },
    {
      "cell_type": "code",
      "metadata": {
        "id": "K5hAbNvxotG4",
        "colab_type": "code",
        "outputId": "a3e5ce75-bce0-4b8d-e62b-9521518b8aaa",
        "colab": {
          "base_uri": "https://localhost:8080/",
          "height": 1000
        }
      },
      "source": [
        "autoencoder.fit(x_train, x_train,\n",
        "                epochs=50,\n",
        "                batch_size=256,\n",
        "                shuffle=True,\n",
        "                validation_data=(x_test, x_test))"
      ],
      "execution_count": 0,
      "outputs": [
        {
          "output_type": "stream",
          "text": [
            "Train on 60000 samples, validate on 10000 samples\n",
            "Epoch 1/50\n",
            "60000/60000 [==============================] - 3s 47us/step - loss: 0.3432 - val_loss: 0.2617\n",
            "Epoch 2/50\n",
            "60000/60000 [==============================] - 1s 18us/step - loss: 0.2526 - val_loss: 0.2441\n",
            "Epoch 3/50\n",
            "60000/60000 [==============================] - 1s 19us/step - loss: 0.2393 - val_loss: 0.2318\n",
            "Epoch 4/50\n",
            "60000/60000 [==============================] - 1s 18us/step - loss: 0.2203 - val_loss: 0.2083\n",
            "Epoch 5/50\n",
            "60000/60000 [==============================] - 1s 18us/step - loss: 0.2008 - val_loss: 0.1924\n",
            "Epoch 6/50\n",
            "60000/60000 [==============================] - 1s 19us/step - loss: 0.1890 - val_loss: 0.1830\n",
            "Epoch 7/50\n",
            "60000/60000 [==============================] - 1s 18us/step - loss: 0.1810 - val_loss: 0.1775\n",
            "Epoch 8/50\n",
            "60000/60000 [==============================] - 1s 21us/step - loss: 0.1772 - val_loss: 0.1732\n",
            "Epoch 9/50\n",
            "60000/60000 [==============================] - 1s 18us/step - loss: 0.1728 - val_loss: 0.1693\n",
            "Epoch 10/50\n",
            "60000/60000 [==============================] - 1s 19us/step - loss: 0.1682 - val_loss: 0.1637\n",
            "Epoch 11/50\n",
            "60000/60000 [==============================] - 1s 20us/step - loss: 0.1637 - val_loss: 0.1599\n",
            "Epoch 12/50\n",
            "60000/60000 [==============================] - 1s 18us/step - loss: 0.1598 - val_loss: 0.1554\n",
            "Epoch 13/50\n",
            "60000/60000 [==============================] - 1s 18us/step - loss: 0.1559 - val_loss: 0.1525\n",
            "Epoch 14/50\n",
            "60000/60000 [==============================] - 1s 19us/step - loss: 0.1521 - val_loss: 0.1497\n",
            "Epoch 15/50\n",
            "60000/60000 [==============================] - 1s 19us/step - loss: 0.1488 - val_loss: 0.1452\n",
            "Epoch 16/50\n",
            "60000/60000 [==============================] - 1s 20us/step - loss: 0.1460 - val_loss: 0.1431\n",
            "Epoch 17/50\n",
            "60000/60000 [==============================] - 1s 20us/step - loss: 0.1436 - val_loss: 0.1430\n",
            "Epoch 18/50\n",
            "60000/60000 [==============================] - 1s 18us/step - loss: 0.1411 - val_loss: 0.1393\n",
            "Epoch 19/50\n",
            "60000/60000 [==============================] - 1s 18us/step - loss: 0.1386 - val_loss: 0.1350\n",
            "Epoch 20/50\n",
            "60000/60000 [==============================] - 1s 18us/step - loss: 0.1366 - val_loss: 0.1358\n",
            "Epoch 21/50\n",
            "60000/60000 [==============================] - 1s 18us/step - loss: 0.1346 - val_loss: 0.1328\n",
            "Epoch 22/50\n",
            "60000/60000 [==============================] - 1s 21us/step - loss: 0.1329 - val_loss: 0.1317\n",
            "Epoch 23/50\n",
            "60000/60000 [==============================] - 1s 18us/step - loss: 0.1315 - val_loss: 0.1290\n",
            "Epoch 24/50\n",
            "60000/60000 [==============================] - 1s 18us/step - loss: 0.1302 - val_loss: 0.1291\n",
            "Epoch 25/50\n",
            "60000/60000 [==============================] - 1s 18us/step - loss: 0.1290 - val_loss: 0.1271\n",
            "Epoch 26/50\n",
            "60000/60000 [==============================] - 1s 20us/step - loss: 0.1281 - val_loss: 0.1263\n",
            "Epoch 27/50\n",
            "60000/60000 [==============================] - 1s 20us/step - loss: 0.1270 - val_loss: 0.1241\n",
            "Epoch 28/50\n",
            "60000/60000 [==============================] - 1s 18us/step - loss: 0.1260 - val_loss: 0.1233\n",
            "Epoch 29/50\n",
            "60000/60000 [==============================] - 1s 18us/step - loss: 0.1251 - val_loss: 0.1238\n",
            "Epoch 30/50\n",
            "60000/60000 [==============================] - 1s 18us/step - loss: 0.1242 - val_loss: 0.1214\n",
            "Epoch 31/50\n",
            "60000/60000 [==============================] - 1s 19us/step - loss: 0.1234 - val_loss: 0.1217\n",
            "Epoch 32/50\n",
            "60000/60000 [==============================] - 1s 18us/step - loss: 0.1225 - val_loss: 0.1207\n",
            "Epoch 33/50\n",
            "60000/60000 [==============================] - 1s 18us/step - loss: 0.1219 - val_loss: 0.1194\n",
            "Epoch 34/50\n",
            "60000/60000 [==============================] - 1s 19us/step - loss: 0.1212 - val_loss: 0.1192\n",
            "Epoch 35/50\n",
            "60000/60000 [==============================] - 1s 20us/step - loss: 0.1204 - val_loss: 0.1182\n",
            "Epoch 36/50\n",
            "60000/60000 [==============================] - 1s 18us/step - loss: 0.1199 - val_loss: 0.1205\n",
            "Epoch 37/50\n",
            "60000/60000 [==============================] - 1s 18us/step - loss: 0.1193 - val_loss: 0.1172\n",
            "Epoch 38/50\n",
            "60000/60000 [==============================] - 1s 18us/step - loss: 0.1187 - val_loss: 0.1194\n",
            "Epoch 39/50\n",
            "60000/60000 [==============================] - 1s 18us/step - loss: 0.1183 - val_loss: 0.1159\n",
            "Epoch 40/50\n",
            "60000/60000 [==============================] - 1s 19us/step - loss: 0.1177 - val_loss: 0.1164\n",
            "Epoch 41/50\n",
            "60000/60000 [==============================] - 1s 19us/step - loss: 0.1171 - val_loss: 0.1163\n",
            "Epoch 42/50\n",
            "60000/60000 [==============================] - 1s 19us/step - loss: 0.1166 - val_loss: 0.1182\n",
            "Epoch 43/50\n",
            "60000/60000 [==============================] - 1s 18us/step - loss: 0.1159 - val_loss: 0.1136\n",
            "Epoch 44/50\n",
            "60000/60000 [==============================] - 1s 17us/step - loss: 0.1155 - val_loss: 0.1133\n",
            "Epoch 45/50\n",
            "60000/60000 [==============================] - 1s 18us/step - loss: 0.1150 - val_loss: 0.1124\n",
            "Epoch 46/50\n",
            "60000/60000 [==============================] - 1s 18us/step - loss: 0.1145 - val_loss: 0.1118\n",
            "Epoch 47/50\n",
            "60000/60000 [==============================] - 1s 18us/step - loss: 0.1142 - val_loss: 0.1120\n",
            "Epoch 48/50\n",
            "60000/60000 [==============================] - 1s 20us/step - loss: 0.1138 - val_loss: 0.1126\n",
            "Epoch 49/50\n",
            "60000/60000 [==============================] - 1s 18us/step - loss: 0.1134 - val_loss: 0.1117\n",
            "Epoch 50/50\n",
            "60000/60000 [==============================] - 1s 18us/step - loss: 0.1130 - val_loss: 0.1109\n"
          ],
          "name": "stdout"
        },
        {
          "output_type": "execute_result",
          "data": {
            "text/plain": [
              "<keras.callbacks.callbacks.History at 0x7fc9902be588>"
            ]
          },
          "metadata": {
            "tags": []
          },
          "execution_count": 8
        }
      ]
    },
    {
      "cell_type": "code",
      "metadata": {
        "id": "AkRwidZfotsr",
        "colab_type": "code",
        "colab": {}
      },
      "source": [
        "# encode and decode some digits\n",
        "# note that we take them from the *test* set\n",
        "encoded_imgs = encoder.predict(x_test)\n",
        "decoded_imgs = decoder.predict(encoded_imgs)"
      ],
      "execution_count": 0,
      "outputs": []
    },
    {
      "cell_type": "code",
      "metadata": {
        "id": "sg_P_VuFoty6",
        "colab_type": "code",
        "outputId": "bd8c792f-8b96-4b78-f0c1-b9c29c6fafd0",
        "colab": {
          "base_uri": "https://localhost:8080/",
          "height": 248
        }
      },
      "source": [
        "n = 10  # how many digits we will display\n",
        "plt.figure(figsize=(20, 4))\n",
        "for i in range(n):\n",
        "    # display original\n",
        "    ax = plt.subplot(2, n, i + 1)\n",
        "    plt.imshow(x_test[i].reshape(28, 28))\n",
        "    plt.gray()\n",
        "    ax.get_xaxis().set_visible(False)\n",
        "    ax.get_yaxis().set_visible(False)\n",
        "\n",
        "    # display reconstruction\n",
        "    ax = plt.subplot(2, n, i + 1 + n)\n",
        "    plt.imshow(decoded_imgs[i].reshape(28, 28))\n",
        "    plt.gray()\n",
        "    ax.get_xaxis().set_visible(False)\n",
        "    ax.get_yaxis().set_visible(False)\n",
        "plt.show()"
      ],
      "execution_count": 0,
      "outputs": [
        {
          "output_type": "display_data",
          "data": {
            "image/png": "[encoded data removed]",
            "text/plain": [
              "<Figure size 1440x288 with 20 Axes>"
            ]
          },
          "metadata": {
            "tags": [],
            "needs_background": "light"
          }
        }
      ]
    },
    {
      "cell_type": "markdown",
      "metadata": {
        "id": "2Khv2iMKC1Rz",
        "colab_type": "text"
      },
      "source": [
        "# Experiments:\n",
        "\n",
        "1) Using sigmoid activation function in the last decoder layer and binary cross entropy loss funtion: Loss 0.1109\n",
        "\n",
        "2) With relu and MSE: Loss 0.0267. Reconstruction is not good. \n",
        "\n",
        "3) With Linear activation and MSE: Loss 0.0248. Reconstruction is not perfect and are slightly distorted. Few pixels are missing."
      ]
    },
    {
      "cell_type": "markdown",
      "metadata": {
        "id": "-Mt1ulGzXZH5",
        "colab_type": "text"
      },
      "source": [
        "## Convolutional Autoencoders\n",
        "\n",
        "Source: [Building Autoencoders in keras](https://blog.keras.io/building-autoencoders-in-keras.html)"
      ]
    },
    {
      "cell_type": "code",
      "metadata": {
        "id": "JLCeSr2oaUpL",
        "colab_type": "code",
        "colab": {}
      },
      "source": [
        "import tensorflow as tf\n",
        "import numpy as np\n",
        "import matplotlib.pyplot as plt"
      ],
      "execution_count": 0,
      "outputs": []
    },
    {
      "cell_type": "code",
      "metadata": {
        "id": "2nOcnBiPa95K",
        "colab_type": "code",
        "outputId": "81f2dfef-c87b-48d2-be1b-439f3be435c2",
        "colab": {
          "base_uri": "https://localhost:8080/",
          "height": 68
        }
      },
      "source": [
        "from keras.datasets import mnist\n",
        "import numpy as np\n",
        "\n",
        "(x_train, _), (x_test, _) = mnist.load_data()\n",
        "\n",
        "x_train = x_train.astype('float32') / 255.\n",
        "x_test = x_test.astype('float32') / 255.\n",
        "x_train = np.reshape(x_train, (len(x_train), 28, 28, 1))  \n",
        "x_test = np.reshape(x_test, (len(x_test), 28, 28, 1))  "
      ],
      "execution_count": 0,
      "outputs": [
        {
          "output_type": "stream",
          "text": [
            "Using TensorFlow backend.\n"
          ],
          "name": "stderr"
        },
        {
          "output_type": "stream",
          "text": [
            "Downloading data from https://s3.amazonaws.com/img-datasets/mnist.npz\n",
            "11493376/11490434 [==============================] - 0s 0us/step\n"
          ],
          "name": "stdout"
        }
      ]
    },
    {
      "cell_type": "code",
      "metadata": {
        "id": "gQkLWgNta5oV",
        "colab_type": "code",
        "colab": {}
      },
      "source": [
        "from keras.layers import Input, Dense, Conv2D, MaxPooling2D, UpSampling2D, Conv2DTranspose, Reshape\n",
        "from keras.models import Model\n",
        "from keras import backend as K\n",
        "\n",
        "input_img = Input(shape=(28, 28, 1))  \n",
        "\n",
        "x = Conv2D(16, (3, 3), activation='relu', padding='same')(input_img)\n",
        "x = MaxPooling2D((2, 2), padding='same')(x)\n",
        "x = Conv2D(8, (3, 3), activation='relu', padding='same')(x)\n",
        "x = MaxPooling2D((2, 2), padding='same')(x)\n",
        "x = Conv2D(8, (3, 3), activation='relu', padding='same')(x)\n",
        "encoded = MaxPooling2D((2, 2), padding='same')(x)\n",
        "\n",
        "\n",
        "x = Conv2D(8, (3, 3), activation='relu', padding='same')(encoded)\n",
        "x = UpSampling2D((2, 2))(x)\n",
        "x = Conv2D(8, (3, 3), activation='relu', padding='same')(x)\n",
        "x = UpSampling2D((2, 2))(x)\n",
        "x = Conv2D(16, (3, 3), activation='relu')(x)\n",
        "x = UpSampling2D((2, 2))(x)\n",
        "decoded = Conv2D(1, (3, 3), activation='sigmoid', padding='same')(x)\n",
        "\n",
        "\"\"\"\n",
        "x = Conv2DTranspose(filters=8, kernel_size=3, strides=2, padding='same', activation='relu')(encoded)\n",
        "x = Conv2DTranspose(filters=8, kernel_size=3, strides=2, padding='same', activation='relu')(x)\n",
        "x = Conv2DTranspose(filters=16, kernel_size=3, strides=1, padding='valid', activation='relu')(x)\n",
        "x = Conv2DTranspose(filters=1, kernel_size=3, strides=2, padding='same', activation='relu')(x)\n",
        "decoded = Conv2DTranspose(1, (3, 3), strides=1, activation='sigmoid', padding='same')(x)\n",
        "\"\"\"\n",
        "\n",
        "autoencoder = Model(input_img, decoded)\n",
        "autoencoder.compile(optimizer='adadelta', loss='binary_crossentropy')"
      ],
      "execution_count": 0,
      "outputs": []
    },
    {
      "cell_type": "code",
      "metadata": {
        "id": "SxsQlKJVbpe5",
        "colab_type": "code",
        "outputId": "a01529d4-6016-4767-b724-5d62219eb95c",
        "colab": {
          "base_uri": "https://localhost:8080/",
          "height": 1000
        }
      },
      "source": [
        "autoencoder.fit(x_train, x_train,\n",
        "                epochs=50,\n",
        "                batch_size=128,\n",
        "                shuffle=True,\n",
        "                validation_data=(x_test, x_test))"
      ],
      "execution_count": 0,
      "outputs": [
        {
          "output_type": "stream",
          "text": [
            "Train on 60000 samples, validate on 10000 samples\n",
            "Epoch 1/50\n",
            "60000/60000 [==============================] - 13s 215us/step - loss: 0.2088 - val_loss: 0.1640\n",
            "Epoch 2/50\n",
            "60000/60000 [==============================] - 6s 102us/step - loss: 0.1545 - val_loss: 0.1458\n",
            "Epoch 3/50\n",
            "60000/60000 [==============================] - 7s 109us/step - loss: 0.1410 - val_loss: 0.1369\n",
            "Epoch 4/50\n",
            "60000/60000 [==============================] - 7s 115us/step - loss: 0.1339 - val_loss: 0.1312\n",
            "Epoch 5/50\n",
            "60000/60000 [==============================] - 7s 116us/step - loss: 0.1294 - val_loss: 0.1251\n",
            "Epoch 6/50\n",
            "60000/60000 [==============================] - 7s 114us/step - loss: 0.1261 - val_loss: 0.1245\n",
            "Epoch 7/50\n",
            "60000/60000 [==============================] - 7s 115us/step - loss: 0.1237 - val_loss: 0.1184\n",
            "Epoch 8/50\n",
            "60000/60000 [==============================] - 7s 116us/step - loss: 0.1213 - val_loss: 0.1219\n",
            "Epoch 9/50\n",
            "60000/60000 [==============================] - 7s 116us/step - loss: 0.1196 - val_loss: 0.1168\n",
            "Epoch 10/50\n",
            "60000/60000 [==============================] - 7s 115us/step - loss: 0.1180 - val_loss: 0.1133\n",
            "Epoch 11/50\n",
            "60000/60000 [==============================] - 7s 117us/step - loss: 0.1166 - val_loss: 0.1115\n",
            "Epoch 12/50\n",
            "60000/60000 [==============================] - 7s 116us/step - loss: 0.1151 - val_loss: 0.1170\n",
            "Epoch 13/50\n",
            "60000/60000 [==============================] - 7s 114us/step - loss: 0.1140 - val_loss: 0.1152\n",
            "Epoch 14/50\n",
            "60000/60000 [==============================] - 7s 116us/step - loss: 0.1131 - val_loss: 0.1120\n",
            "Epoch 15/50\n",
            "60000/60000 [==============================] - 7s 115us/step - loss: 0.1122 - val_loss: 0.1118\n",
            "Epoch 16/50\n",
            "60000/60000 [==============================] - 7s 115us/step - loss: 0.1117 - val_loss: 0.1098\n",
            "Epoch 17/50\n",
            "60000/60000 [==============================] - 7s 114us/step - loss: 0.1106 - val_loss: 0.1069\n",
            "Epoch 18/50\n",
            "60000/60000 [==============================] - 7s 115us/step - loss: 0.1102 - val_loss: 0.1051\n",
            "Epoch 19/50\n",
            "60000/60000 [==============================] - 7s 114us/step - loss: 0.1095 - val_loss: 0.1090\n",
            "Epoch 20/50\n",
            "60000/60000 [==============================] - 7s 114us/step - loss: 0.1089 - val_loss: 0.1065\n",
            "Epoch 21/50\n",
            "60000/60000 [==============================] - 7s 114us/step - loss: 0.1081 - val_loss: 0.1065\n",
            "Epoch 22/50\n",
            "60000/60000 [==============================] - 7s 115us/step - loss: 0.1076 - val_loss: 0.1051\n",
            "Epoch 23/50\n",
            "60000/60000 [==============================] - 7s 114us/step - loss: 0.1069 - val_loss: 0.1044\n",
            "Epoch 24/50\n",
            "60000/60000 [==============================] - 7s 115us/step - loss: 0.1064 - val_loss: 0.1071\n",
            "Epoch 25/50\n",
            "60000/60000 [==============================] - 7s 114us/step - loss: 0.1062 - val_loss: 0.1038\n",
            "Epoch 26/50\n",
            "60000/60000 [==============================] - 7s 115us/step - loss: 0.1057 - val_loss: 0.1051\n",
            "Epoch 27/50\n",
            "60000/60000 [==============================] - 7s 115us/step - loss: 0.1052 - val_loss: 0.1069\n",
            "Epoch 28/50\n",
            "60000/60000 [==============================] - 7s 115us/step - loss: 0.1051 - val_loss: 0.1021\n",
            "Epoch 29/50\n",
            "60000/60000 [==============================] - 7s 114us/step - loss: 0.1045 - val_loss: 0.1038\n",
            "Epoch 30/50\n",
            "60000/60000 [==============================] - 7s 115us/step - loss: 0.1042 - val_loss: 0.1002\n",
            "Epoch 31/50\n",
            "60000/60000 [==============================] - 7s 114us/step - loss: 0.1037 - val_loss: 0.0998\n",
            "Epoch 32/50\n",
            "60000/60000 [==============================] - 7s 114us/step - loss: 0.1035 - val_loss: 0.1018\n",
            "Epoch 33/50\n",
            "60000/60000 [==============================] - 7s 113us/step - loss: 0.1033 - val_loss: 0.1010\n",
            "Epoch 34/50\n",
            "60000/60000 [==============================] - 7s 115us/step - loss: 0.1031 - val_loss: 0.1028\n",
            "Epoch 35/50\n",
            "60000/60000 [==============================] - 7s 113us/step - loss: 0.1029 - val_loss: 0.1016\n",
            "Epoch 36/50\n",
            "60000/60000 [==============================] - 7s 114us/step - loss: 0.1027 - val_loss: 0.1020\n",
            "Epoch 37/50\n",
            "60000/60000 [==============================] - 7s 113us/step - loss: 0.1024 - val_loss: 0.0995\n",
            "Epoch 38/50\n",
            "60000/60000 [==============================] - 7s 115us/step - loss: 0.1024 - val_loss: 0.1043\n",
            "Epoch 39/50\n",
            "60000/60000 [==============================] - 7s 113us/step - loss: 0.1021 - val_loss: 0.0998\n",
            "Epoch 40/50\n",
            "60000/60000 [==============================] - 7s 115us/step - loss: 0.1018 - val_loss: 0.1014\n",
            "Epoch 41/50\n",
            "60000/60000 [==============================] - 7s 114us/step - loss: 0.1015 - val_loss: 0.0990\n",
            "Epoch 42/50\n",
            "60000/60000 [==============================] - 7s 115us/step - loss: 0.1013 - val_loss: 0.1019\n",
            "Epoch 43/50\n",
            "60000/60000 [==============================] - 7s 115us/step - loss: 0.1013 - val_loss: 0.0986\n",
            "Epoch 44/50\n",
            "60000/60000 [==============================] - 7s 115us/step - loss: 0.1012 - val_loss: 0.1002\n",
            "Epoch 45/50\n",
            "60000/60000 [==============================] - 7s 115us/step - loss: 0.1010 - val_loss: 0.1011\n",
            "Epoch 46/50\n",
            "60000/60000 [==============================] - 7s 114us/step - loss: 0.1009 - val_loss: 0.1017\n",
            "Epoch 47/50\n",
            "60000/60000 [==============================] - 7s 114us/step - loss: 0.1008 - val_loss: 0.1019\n",
            "Epoch 48/50\n",
            "60000/60000 [==============================] - 7s 115us/step - loss: 0.1008 - val_loss: 0.1014\n",
            "Epoch 49/50\n",
            "60000/60000 [==============================] - 7s 118us/step - loss: 0.1002 - val_loss: 0.0991\n",
            "Epoch 50/50\n",
            "60000/60000 [==============================] - 7s 115us/step - loss: 0.1004 - val_loss: 0.0988\n"
          ],
          "name": "stdout"
        },
        {
          "output_type": "execute_result",
          "data": {
            "text/plain": [
              "<keras.callbacks.callbacks.History at 0x7fe52fb2ec50>"
            ]
          },
          "metadata": {
            "tags": []
          },
          "execution_count": 4
        }
      ]
    },
    {
      "cell_type": "code",
      "metadata": {
        "id": "k2gdNZcLbzVL",
        "colab_type": "code",
        "outputId": "1d0326ad-66c1-472d-e257-5b41ffc3fabb",
        "colab": {
          "base_uri": "https://localhost:8080/",
          "height": 248
        }
      },
      "source": [
        "encoder = Model(input_img, encoded)\n",
        "encoded_imgs = encoder.predict(x_test)\n",
        "decoded_imgs = autoencoder.predict(x_test)\n",
        "\n",
        "n = 10\n",
        "plt.figure(figsize=(20, 4))\n",
        "for i in range(n):\n",
        "    # display original\n",
        "    ax = plt.subplot(2, n, i + 1)\n",
        "    plt.imshow(x_test[i].reshape(28, 28))\n",
        "    plt.gray()\n",
        "    ax.get_xaxis().set_visible(False)\n",
        "    ax.get_yaxis().set_visible(False)\n",
        "\n",
        "    # display reconstruction\n",
        "    ax = plt.subplot(2, n, i + 1 + n)\n",
        "    plt.imshow(decoded_imgs[i].reshape(28, 28))\n",
        "    plt.gray()\n",
        "    ax.get_xaxis().set_visible(False)\n",
        "    ax.get_yaxis().set_visible(False)\n",
        "plt.show()"
      ],
      "execution_count": 0,
      "outputs": [
        {
          "output_type": "display_data",
          "data": {
            "image/png": "[encoded data removed]",
            "text/plain": [
              "<Figure size 1440x288 with 20 Axes>"
            ]
          },
          "metadata": {
            "tags": [],
            "needs_background": "light"
          }
        }
      ]
    },
    {
      "cell_type": "markdown",
      "metadata": {
        "id": "T87E1_Xo4Z5A",
        "colab_type": "text"
      },
      "source": [
        "## What do Autoencoders Learn?"
      ]
    },
    {
      "cell_type": "code",
      "metadata": {
        "id": "U24h00e-7Fta",
        "colab_type": "code",
        "colab": {}
      },
      "source": [
        "import tensorflow as tf\n",
        "import numpy as np\n",
        "import matplotlib.pyplot as plt"
      ],
      "execution_count": 0,
      "outputs": []
    },
    {
      "cell_type": "code",
      "metadata": {
        "id": "nksO8jXT7Z-E",
        "colab_type": "code",
        "outputId": "7cb9f8c5-62fe-4741-d78a-53cd4df55450",
        "colab": {
          "base_uri": "https://localhost:8080/",
          "height": 34
        }
      },
      "source": [
        "from keras.datasets import mnist\n",
        "import numpy as np\n",
        "(x_train, _), (x_test, _) = mnist.load_data()\n",
        "\n",
        "x_train = x_train.astype('float32') / 255.\n",
        "x_test = x_test.astype('float32') / 255.\n",
        "x_train = x_train.reshape((len(x_train), np.prod(x_train.shape[1:])))\n",
        "x_test = x_test.reshape((len(x_test), np.prod(x_test.shape[1:])))"
      ],
      "execution_count": 2,
      "outputs": [
        {
          "output_type": "stream",
          "text": [
            "Using TensorFlow backend.\n"
          ],
          "name": "stderr"
        }
      ]
    },
    {
      "cell_type": "code",
      "metadata": {
        "id": "NF7uT_2i7Ped",
        "colab_type": "code",
        "colab": {}
      },
      "source": [
        "from keras.layers import Input, Dense\n",
        "from keras.models import Model\n",
        "\n",
        "# this is the size of our encoded representations\n",
        "encoding_dim = 5  \n",
        "\n",
        "# this is our input placeholder\n",
        "input_img = Input(shape=(784,))\n",
        "# \"encoded\" is the encoded representation of the input\n",
        "encoded = Dense(encoding_dim, activation='relu')(input_img)\n",
        "# \"decoded\" is the lossy reconstruction of the input\n",
        "decoded = Dense(784, activation='sigmoid')(encoded)\n",
        "\n",
        "# this model maps an input to its reconstruction\n",
        "autoencoder = Model(input_img, decoded)"
      ],
      "execution_count": 0,
      "outputs": []
    },
    {
      "cell_type": "code",
      "metadata": {
        "id": "C5rxAt8b7Q-m",
        "colab_type": "code",
        "colab": {}
      },
      "source": [
        "encoder = Model(input_img, encoded)\n",
        "# create a placeholder for an encoded (32-dimensional) input\n",
        "encoded_input = Input(shape=(encoding_dim,))\n",
        "# retrieve the last layer of the autoencoder model\n",
        "decoder_layer = autoencoder.layers[-1]\n",
        "# create the decoder model\n",
        "decoder = Model(encoded_input, decoder_layer(encoded_input))"
      ],
      "execution_count": 0,
      "outputs": []
    },
    {
      "cell_type": "code",
      "metadata": {
        "id": "-DqUCSenDEAS",
        "colab_type": "code",
        "outputId": "e2b3c695-c9fd-4ab7-8a9b-9522fbcb9eae",
        "colab": {
          "base_uri": "https://localhost:8080/",
          "height": 1000
        }
      },
      "source": [
        "autoencoder.compile(optimizer='adadelta', loss='binary_crossentropy')\n",
        "autoencoder.fit(x_train, x_train,\n",
        "                epochs=50,\n",
        "                batch_size=256,\n",
        "                shuffle=True,\n",
        "                validation_data=(x_test, x_test))"
      ],
      "execution_count": 5,
      "outputs": [
        {
          "output_type": "stream",
          "text": [
            "Train on 60000 samples, validate on 10000 samples\n",
            "Epoch 1/50\n",
            "60000/60000 [==============================] - 1s 19us/step - loss: 0.4138 - val_loss: 0.2757\n",
            "Epoch 2/50\n",
            "60000/60000 [==============================] - 1s 15us/step - loss: 0.2730 - val_loss: 0.2698\n",
            "Epoch 3/50\n",
            "60000/60000 [==============================] - 1s 14us/step - loss: 0.2676 - val_loss: 0.2638\n",
            "Epoch 4/50\n",
            "60000/60000 [==============================] - 1s 14us/step - loss: 0.2594 - val_loss: 0.2526\n",
            "Epoch 5/50\n",
            "60000/60000 [==============================] - 1s 14us/step - loss: 0.2466 - val_loss: 0.2397\n",
            "Epoch 6/50\n",
            "60000/60000 [==============================] - 1s 14us/step - loss: 0.2361 - val_loss: 0.2319\n",
            "Epoch 7/50\n",
            "60000/60000 [==============================] - 1s 13us/step - loss: 0.2302 - val_loss: 0.2273\n",
            "Epoch 8/50\n",
            "60000/60000 [==============================] - 1s 13us/step - loss: 0.2264 - val_loss: 0.2235\n",
            "Epoch 9/50\n",
            "60000/60000 [==============================] - 1s 13us/step - loss: 0.2219 - val_loss: 0.2180\n",
            "Epoch 10/50\n",
            "60000/60000 [==============================] - 1s 13us/step - loss: 0.2163 - val_loss: 0.2128\n",
            "Epoch 11/50\n",
            "60000/60000 [==============================] - 1s 13us/step - loss: 0.2124 - val_loss: 0.2100\n",
            "Epoch 12/50\n",
            "60000/60000 [==============================] - 1s 13us/step - loss: 0.2104 - val_loss: 0.2084\n",
            "Epoch 13/50\n",
            "60000/60000 [==============================] - 1s 14us/step - loss: 0.2091 - val_loss: 0.2074\n",
            "Epoch 14/50\n",
            "60000/60000 [==============================] - 1s 13us/step - loss: 0.2081 - val_loss: 0.2064\n",
            "Epoch 15/50\n",
            "60000/60000 [==============================] - 1s 14us/step - loss: 0.2073 - val_loss: 0.2057\n",
            "Epoch 16/50\n",
            "60000/60000 [==============================] - 1s 13us/step - loss: 0.2066 - val_loss: 0.2050\n",
            "Epoch 17/50\n",
            "60000/60000 [==============================] - 1s 14us/step - loss: 0.2060 - val_loss: 0.2045\n",
            "Epoch 18/50\n",
            "60000/60000 [==============================] - 1s 15us/step - loss: 0.2054 - val_loss: 0.2039\n",
            "Epoch 19/50\n",
            "60000/60000 [==============================] - 1s 15us/step - loss: 0.2049 - val_loss: 0.2034\n",
            "Epoch 20/50\n",
            "60000/60000 [==============================] - 1s 13us/step - loss: 0.2045 - val_loss: 0.2029\n",
            "Epoch 21/50\n",
            "60000/60000 [==============================] - 1s 13us/step - loss: 0.2040 - val_loss: 0.2026\n",
            "Epoch 22/50\n",
            "60000/60000 [==============================] - 1s 13us/step - loss: 0.2036 - val_loss: 0.2021\n",
            "Epoch 23/50\n",
            "60000/60000 [==============================] - 1s 13us/step - loss: 0.2032 - val_loss: 0.2018\n",
            "Epoch 24/50\n",
            "60000/60000 [==============================] - 1s 13us/step - loss: 0.2028 - val_loss: 0.2014\n",
            "Epoch 25/50\n",
            "60000/60000 [==============================] - 1s 13us/step - loss: 0.2024 - val_loss: 0.2010\n",
            "Epoch 26/50\n",
            "60000/60000 [==============================] - 1s 13us/step - loss: 0.2021 - val_loss: 0.2007\n",
            "Epoch 27/50\n",
            "60000/60000 [==============================] - 1s 13us/step - loss: 0.2017 - val_loss: 0.2003\n",
            "Epoch 28/50\n",
            "60000/60000 [==============================] - 1s 13us/step - loss: 0.2014 - val_loss: 0.2000\n",
            "Epoch 29/50\n",
            "60000/60000 [==============================] - 1s 13us/step - loss: 0.2011 - val_loss: 0.1996\n",
            "Epoch 30/50\n",
            "60000/60000 [==============================] - 1s 13us/step - loss: 0.2008 - val_loss: 0.1994\n",
            "Epoch 31/50\n",
            "60000/60000 [==============================] - 1s 13us/step - loss: 0.2004 - val_loss: 0.1991\n",
            "Epoch 32/50\n",
            "60000/60000 [==============================] - 1s 15us/step - loss: 0.2002 - val_loss: 0.1988\n",
            "Epoch 33/50\n",
            "60000/60000 [==============================] - 1s 14us/step - loss: 0.1999 - val_loss: 0.1984\n",
            "Epoch 34/50\n",
            "60000/60000 [==============================] - 1s 15us/step - loss: 0.1996 - val_loss: 0.1982\n",
            "Epoch 35/50\n",
            "60000/60000 [==============================] - 1s 13us/step - loss: 0.1994 - val_loss: 0.1980\n",
            "Epoch 36/50\n",
            "60000/60000 [==============================] - 1s 13us/step - loss: 0.1991 - val_loss: 0.1977\n",
            "Epoch 37/50\n",
            "60000/60000 [==============================] - 1s 13us/step - loss: 0.1989 - val_loss: 0.1975\n",
            "Epoch 38/50\n",
            "60000/60000 [==============================] - 1s 13us/step - loss: 0.1987 - val_loss: 0.1973\n",
            "Epoch 39/50\n",
            "60000/60000 [==============================] - 1s 13us/step - loss: 0.1985 - val_loss: 0.1971\n",
            "Epoch 40/50\n",
            "60000/60000 [==============================] - 1s 13us/step - loss: 0.1983 - val_loss: 0.1969\n",
            "Epoch 41/50\n",
            "60000/60000 [==============================] - 1s 13us/step - loss: 0.1981 - val_loss: 0.1967\n",
            "Epoch 42/50\n",
            "60000/60000 [==============================] - 1s 13us/step - loss: 0.1980 - val_loss: 0.1965\n",
            "Epoch 43/50\n",
            "60000/60000 [==============================] - 1s 13us/step - loss: 0.1978 - val_loss: 0.1964\n",
            "Epoch 44/50\n",
            "60000/60000 [==============================] - 1s 13us/step - loss: 0.1977 - val_loss: 0.1962\n",
            "Epoch 45/50\n",
            "60000/60000 [==============================] - 1s 13us/step - loss: 0.1975 - val_loss: 0.1961\n",
            "Epoch 46/50\n",
            "60000/60000 [==============================] - 1s 13us/step - loss: 0.1974 - val_loss: 0.1960\n",
            "Epoch 47/50\n",
            "60000/60000 [==============================] - 1s 13us/step - loss: 0.1973 - val_loss: 0.1959\n",
            "Epoch 48/50\n",
            "60000/60000 [==============================] - 1s 15us/step - loss: 0.1972 - val_loss: 0.1959\n",
            "Epoch 49/50\n",
            "60000/60000 [==============================] - 1s 15us/step - loss: 0.1971 - val_loss: 0.1956\n",
            "Epoch 50/50\n",
            "60000/60000 [==============================] - 1s 13us/step - loss: 0.1970 - val_loss: 0.1956\n"
          ],
          "name": "stdout"
        },
        {
          "output_type": "execute_result",
          "data": {
            "text/plain": [
              "<keras.callbacks.callbacks.History at 0x7f9ace001f98>"
            ]
          },
          "metadata": {
            "tags": []
          },
          "execution_count": 5
        }
      ]
    },
    {
      "cell_type": "code",
      "metadata": {
        "id": "XlzsvFyO7fI3",
        "colab_type": "code",
        "colab": {}
      },
      "source": [
        "# encode and decode some digits\n",
        "# note that we take them from the *test* set\n",
        "encoded_imgs = encoder.predict(x_test)\n",
        "decoded_imgs = decoder.predict(encoded_imgs)"
      ],
      "execution_count": 0,
      "outputs": []
    },
    {
      "cell_type": "code",
      "metadata": {
        "id": "Hq1l2lQ67hVm",
        "colab_type": "code",
        "outputId": "a4cf7d17-7b51-403b-ddeb-d05a4ee167c4",
        "colab": {
          "base_uri": "https://localhost:8080/",
          "height": 248
        }
      },
      "source": [
        "# use Matplotlib (don't ask)\n",
        "import matplotlib.pyplot as plt\n",
        "\n",
        "n = 10  # how many digits we will display\n",
        "plt.figure(figsize=(20, 4))\n",
        "for i in range(n):\n",
        "    # display original\n",
        "    ax = plt.subplot(2, n, i + 1)\n",
        "    plt.imshow(x_test[i].reshape(28, 28))\n",
        "    plt.gray()\n",
        "    ax.get_xaxis().set_visible(False)\n",
        "    ax.get_yaxis().set_visible(False)\n",
        "\n",
        "    # display reconstruction\n",
        "    ax = plt.subplot(2, n, i + 1 + n)\n",
        "    plt.imshow(decoded_imgs[i].reshape(28, 28))\n",
        "    plt.gray()\n",
        "    ax.get_xaxis().set_visible(False)\n",
        "    ax.get_yaxis().set_visible(False)\n",
        "plt.show()"
      ],
      "execution_count": 7,
      "outputs": [
        {
          "output_type": "display_data",
          "data": {
            "image/png": "[encoded data removed]",
            "text/plain": [
              "<Figure size 1440x288 with 20 Axes>"
            ]
          },
          "metadata": {
            "tags": [],
            "needs_background": "light"
          }
        }
      ]
    },
    {
      "cell_type": "markdown",
      "metadata": {
        "id": "M6uYwsvGEFwV",
        "colab_type": "text"
      },
      "source": [
        "# Experiments\n",
        "\n",
        "1) Gradually incresing the number of encoding dimensions improves the decoded images. In each step, we can see the strokes of MNIST digits becoming more meaningful. In the above example, we can see the strokes getting learnt as encoding_dim increases."
      ]
    },
    {
      "cell_type": "markdown",
      "metadata": {
        "id": "QdNtjUY8D3j5",
        "colab_type": "text"
      },
      "source": [
        "# Unsupervised pre-training"
      ]
    },
    {
      "cell_type": "code",
      "metadata": {
        "id": "J6zvXj0RjJPc",
        "colab_type": "code",
        "colab": {}
      },
      "source": [
        "import tensorflow as tf\n",
        "import numpy as np\n",
        "import matplotlib.pyplot as plt"
      ],
      "execution_count": 0,
      "outputs": []
    },
    {
      "cell_type": "code",
      "metadata": {
        "id": "Qlr_2jcZjMQZ",
        "colab_type": "code",
        "colab": {}
      },
      "source": [
        "from keras.datasets import mnist\n",
        "import numpy as np\n",
        "(x_train, _), (x_test, _) = mnist.load_data()\n",
        "\n",
        "x_train = x_train.astype('float32') / 255.\n",
        "x_test = x_test.astype('float32') / 255.\n",
        "x_train = x_train.reshape((len(x_train), np.prod(x_train.shape[1:])))\n",
        "x_test = x_test.reshape((len(x_test), np.prod(x_test.shape[1:])))"
      ],
      "execution_count": 0,
      "outputs": []
    },
    {
      "cell_type": "code",
      "metadata": {
        "id": "asOrgS2SjPXl",
        "colab_type": "code",
        "colab": {}
      },
      "source": [
        "from keras.layers import Input, Dense\n",
        "from keras.models import Model\n",
        "\n",
        "# this is the size of our encoded representations\n",
        "encoding_dim = 32  # 32 floats -> compression of factor 24.5, assuming the input is 784 floats\n",
        "\n",
        "# this is our input placeholder\n",
        "input_img = Input(shape=(784,))\n",
        "# \"encoded\" is the encoded representation of the input\n",
        "encoded = Dense(encoding_dim, activation='relu')(input_img)\n",
        "# \"decoded\" is the lossy reconstruction of the input\n",
        "decoded = Dense(784, activation='sigmoid')(encoded)"
      ],
      "execution_count": 0,
      "outputs": []
    },
    {
      "cell_type": "markdown",
      "metadata": {
        "id": "qHno_mO0j5LR",
        "colab_type": "text"
      },
      "source": [
        "# Train an autoencoder as before."
      ]
    },
    {
      "cell_type": "code",
      "metadata": {
        "id": "JqR6vfsajWJu",
        "colab_type": "code",
        "colab": {
          "base_uri": "https://localhost:8080/",
          "height": 1000
        },
        "outputId": "e210faf7-5068-4a1f-d742-79d5f26948cd"
      },
      "source": [
        "# this model maps an input to its reconstruction\n",
        "autoencoder = Model(input_img, decoded)\n",
        "autoencoder.compile(optimizer='adadelta', loss='binary_crossentropy')\n",
        "autoencoder.fit(x_train, x_train,\n",
        "                epochs=50,\n",
        "                batch_size=256,\n",
        "                shuffle=True,\n",
        "                validation_data=(x_test, x_test))"
      ],
      "execution_count": 17,
      "outputs": [
        {
          "output_type": "stream",
          "text": [
            "Train on 60000 samples, validate on 10000 samples\n",
            "Epoch 1/50\n",
            "60000/60000 [==============================] - 1s 14us/step - loss: 0.3585 - val_loss: 0.2710\n",
            "Epoch 2/50\n",
            "60000/60000 [==============================] - 1s 14us/step - loss: 0.2640 - val_loss: 0.2536\n",
            "Epoch 3/50\n",
            "60000/60000 [==============================] - 1s 14us/step - loss: 0.2426 - val_loss: 0.2292\n",
            "Epoch 4/50\n",
            "60000/60000 [==============================] - 1s 14us/step - loss: 0.2207 - val_loss: 0.2102\n",
            "Epoch 5/50\n",
            "60000/60000 [==============================] - 1s 14us/step - loss: 0.2048 - val_loss: 0.1969\n",
            "Epoch 6/50\n",
            "60000/60000 [==============================] - 1s 16us/step - loss: 0.1937 - val_loss: 0.1877\n",
            "Epoch 7/50\n",
            "60000/60000 [==============================] - 1s 14us/step - loss: 0.1854 - val_loss: 0.1804\n",
            "Epoch 8/50\n",
            "60000/60000 [==============================] - 1s 14us/step - loss: 0.1788 - val_loss: 0.1743\n",
            "Epoch 9/50\n",
            "60000/60000 [==============================] - 1s 13us/step - loss: 0.1733 - val_loss: 0.1694\n",
            "Epoch 10/50\n",
            "60000/60000 [==============================] - 1s 13us/step - loss: 0.1685 - val_loss: 0.1648\n",
            "Epoch 11/50\n",
            "60000/60000 [==============================] - 1s 13us/step - loss: 0.1643 - val_loss: 0.1610\n",
            "Epoch 12/50\n",
            "60000/60000 [==============================] - 1s 13us/step - loss: 0.1605 - val_loss: 0.1574\n",
            "Epoch 13/50\n",
            "60000/60000 [==============================] - 1s 16us/step - loss: 0.1571 - val_loss: 0.1540\n",
            "Epoch 14/50\n",
            "60000/60000 [==============================] - 1s 14us/step - loss: 0.1539 - val_loss: 0.1511\n",
            "Epoch 15/50\n",
            "60000/60000 [==============================] - 1s 13us/step - loss: 0.1510 - val_loss: 0.1482\n",
            "Epoch 16/50\n",
            "60000/60000 [==============================] - 1s 13us/step - loss: 0.1483 - val_loss: 0.1455\n",
            "Epoch 17/50\n",
            "60000/60000 [==============================] - 1s 13us/step - loss: 0.1457 - val_loss: 0.1431\n",
            "Epoch 18/50\n",
            "60000/60000 [==============================] - 1s 13us/step - loss: 0.1432 - val_loss: 0.1405\n",
            "Epoch 19/50\n",
            "60000/60000 [==============================] - 1s 13us/step - loss: 0.1408 - val_loss: 0.1382\n",
            "Epoch 20/50\n",
            "60000/60000 [==============================] - 1s 13us/step - loss: 0.1386 - val_loss: 0.1360\n",
            "Epoch 21/50\n",
            "60000/60000 [==============================] - 1s 13us/step - loss: 0.1364 - val_loss: 0.1338\n",
            "Epoch 22/50\n",
            "60000/60000 [==============================] - 1s 15us/step - loss: 0.1342 - val_loss: 0.1317\n",
            "Epoch 23/50\n",
            "60000/60000 [==============================] - 1s 14us/step - loss: 0.1322 - val_loss: 0.1296\n",
            "Epoch 24/50\n",
            "60000/60000 [==============================] - 1s 14us/step - loss: 0.1302 - val_loss: 0.1277\n",
            "Epoch 25/50\n",
            "60000/60000 [==============================] - 1s 14us/step - loss: 0.1284 - val_loss: 0.1259\n",
            "Epoch 26/50\n",
            "60000/60000 [==============================] - 1s 13us/step - loss: 0.1266 - val_loss: 0.1241\n",
            "Epoch 27/50\n",
            "60000/60000 [==============================] - 1s 13us/step - loss: 0.1248 - val_loss: 0.1225\n",
            "Epoch 28/50\n",
            "60000/60000 [==============================] - 1s 14us/step - loss: 0.1232 - val_loss: 0.1209\n",
            "Epoch 29/50\n",
            "60000/60000 [==============================] - 1s 16us/step - loss: 0.1217 - val_loss: 0.1194\n",
            "Epoch 30/50\n",
            "60000/60000 [==============================] - 1s 14us/step - loss: 0.1202 - val_loss: 0.1179\n",
            "Epoch 31/50\n",
            "60000/60000 [==============================] - 1s 13us/step - loss: 0.1188 - val_loss: 0.1167\n",
            "Epoch 32/50\n",
            "60000/60000 [==============================] - 1s 14us/step - loss: 0.1175 - val_loss: 0.1154\n",
            "Epoch 33/50\n",
            "60000/60000 [==============================] - 1s 13us/step - loss: 0.1163 - val_loss: 0.1142\n",
            "Epoch 34/50\n",
            "60000/60000 [==============================] - 1s 13us/step - loss: 0.1151 - val_loss: 0.1130\n",
            "Epoch 35/50\n",
            "60000/60000 [==============================] - 1s 13us/step - loss: 0.1141 - val_loss: 0.1120\n",
            "Epoch 36/50\n",
            "60000/60000 [==============================] - 1s 14us/step - loss: 0.1131 - val_loss: 0.1110\n",
            "Epoch 37/50\n",
            "60000/60000 [==============================] - 1s 14us/step - loss: 0.1121 - val_loss: 0.1101\n",
            "Epoch 38/50\n",
            "60000/60000 [==============================] - 1s 15us/step - loss: 0.1113 - val_loss: 0.1093\n",
            "Epoch 39/50\n",
            "60000/60000 [==============================] - 1s 15us/step - loss: 0.1105 - val_loss: 0.1085\n",
            "Epoch 40/50\n",
            "60000/60000 [==============================] - 1s 14us/step - loss: 0.1097 - val_loss: 0.1077\n",
            "Epoch 41/50\n",
            "60000/60000 [==============================] - 1s 14us/step - loss: 0.1090 - val_loss: 0.1071\n",
            "Epoch 42/50\n",
            "60000/60000 [==============================] - 1s 14us/step - loss: 0.1083 - val_loss: 0.1064\n",
            "Epoch 43/50\n",
            "60000/60000 [==============================] - 1s 14us/step - loss: 0.1077 - val_loss: 0.1058\n",
            "Epoch 44/50\n",
            "60000/60000 [==============================] - 1s 15us/step - loss: 0.1072 - val_loss: 0.1053\n",
            "Epoch 45/50\n",
            "60000/60000 [==============================] - 1s 15us/step - loss: 0.1066 - val_loss: 0.1047\n",
            "Epoch 46/50\n",
            "60000/60000 [==============================] - 1s 16us/step - loss: 0.1061 - val_loss: 0.1043\n",
            "Epoch 47/50\n",
            "60000/60000 [==============================] - 1s 15us/step - loss: 0.1057 - val_loss: 0.1038\n",
            "Epoch 48/50\n",
            "60000/60000 [==============================] - 1s 15us/step - loss: 0.1052 - val_loss: 0.1034\n",
            "Epoch 49/50\n",
            "60000/60000 [==============================] - 1s 13us/step - loss: 0.1048 - val_loss: 0.1030\n",
            "Epoch 50/50\n",
            "60000/60000 [==============================] - 1s 13us/step - loss: 0.1045 - val_loss: 0.1027\n"
          ],
          "name": "stdout"
        },
        {
          "output_type": "execute_result",
          "data": {
            "text/plain": [
              "<keras.callbacks.callbacks.History at 0x7f9a232651d0>"
            ]
          },
          "metadata": {
            "tags": []
          },
          "execution_count": 17
        }
      ]
    },
    {
      "cell_type": "markdown",
      "metadata": {
        "id": "1rN300XBk7Za",
        "colab_type": "text"
      },
      "source": [
        "# Take a small random subset of the training data. Make sure it is actually random, i.e. all labels are represented. You could go very low, e.g. 100 elements or so."
      ]
    },
    {
      "cell_type": "code",
      "metadata": {
        "id": "eITpy3Y1k_pY",
        "colab_type": "code",
        "colab": {
          "base_uri": "https://localhost:8080/",
          "height": 85
        },
        "outputId": "59140fad-4c4a-4b82-b5eb-50649d2469a4"
      },
      "source": [
        "from keras.datasets import mnist\n",
        "from keras.utils import to_categorical\n",
        "import matplotlib.pyplot as plt\n",
        "\n",
        "(inputs_train, targets_train),(inputs_test, targets_test) = mnist.load_data()\n",
        "\n",
        "inputs_train = inputs_train[:100].reshape(100, 784)\n",
        "targets_train = to_categorical(targets_train[:100])\n",
        "\n",
        "inputs_test = inputs_test.reshape(len(inputs_test),784)\n",
        "targets_test = to_categorical(targets_test)\n",
        "#print(targets_train)\n",
        "print(inputs_train.shape)\n",
        "print(targets_train.shape)\n",
        "\n",
        "print(inputs_test.shape)\n",
        "print(targets_test.shape)"
      ],
      "execution_count": 18,
      "outputs": [
        {
          "output_type": "stream",
          "text": [
            "(100, 784)\n",
            "(100, 10)\n",
            "(10000, 784)\n",
            "(10000, 10)\n"
          ],
          "name": "stdout"
        }
      ]
    },
    {
      "cell_type": "markdown",
      "metadata": {
        "id": "ow-momA_lbac",
        "colab_type": "text"
      },
      "source": [
        "# Take the encoder part of the autoencoder. Stick a classifier on top and train only this layer on the subset of data. Your model will now learn a classifier based on the fixed features that were learned by the autoencoder."
      ]
    },
    {
      "cell_type": "code",
      "metadata": {
        "id": "dXytmpWXlezn",
        "colab_type": "code",
        "colab": {}
      },
      "source": [
        "from keras.layers import Input, Dense\n",
        "from keras.models import Model\n",
        "from keras.optimizers import SGD\n",
        "from keras.regularizers import l2\n",
        "encoding_dim = 10\n",
        "num_classes = targets_train.shape[1]\n",
        "inp = Input(shape=(784,))\n",
        "encoded_1 = Dense(encoding_dim, activation='relu')(inp)\n",
        "encoded_2=Dense(units=num_classes,activation='softmax',name='classify')(encoded_1)\n",
        "\n",
        "decoded = Dense(784, activation='sigmoid')(encoded_1)\n",
        "\n",
        "#autoencoder model\n",
        "autoencoder = Model(inp, decoded)\n",
        "\n",
        "#Separate decoder layer\n",
        "encoded_input = Input(shape=(encoding_dim,))\n",
        "decoder_layer = autoencoder.layers[-1]\n",
        "decoder = Model(encoded_input, decoder_layer(encoded_input))"
      ],
      "execution_count": 0,
      "outputs": []
    },
    {
      "cell_type": "code",
      "metadata": {
        "id": "Sr1PRDhFq8ST",
        "colab_type": "code",
        "colab": {}
      },
      "source": [
        "learning_rate = 0.01\n",
        "regularization = 1e-6"
      ],
      "execution_count": 0,
      "outputs": []
    },
    {
      "cell_type": "code",
      "metadata": {
        "id": "sW-NPcn7q-KP",
        "colab_type": "code",
        "colab": {
          "base_uri": "https://localhost:8080/",
          "height": 102
        },
        "outputId": "b18b7efb-b1f6-48be-aa11-a9f9cc482778"
      },
      "source": [
        "encoder_1 = Model(inp, encoded_2)\n",
        "encoder_1.compile(optimizer=SGD(lr=learning_rate, momentum=0.9),\n",
        "                  loss='binary_crossentropy')\n",
        "\n",
        "h=encoder_1.fit(inputs_train,\n",
        "        targets_train,\n",
        "        batch_size=32,\n",
        "        epochs=5,\n",
        "        verbose=0)\n",
        "h.history['loss']"
      ],
      "execution_count": 21,
      "outputs": [
        {
          "output_type": "execute_result",
          "data": {
            "text/plain": [
              "[2.629176254272461,\n",
              " 2.645204086303711,\n",
              " 2.706720199584961,\n",
              " 2.7374784088134767,\n",
              " 2.737478485107422]"
            ]
          },
          "metadata": {
            "tags": []
          },
          "execution_count": 21
        }
      ]
    }
  ]
}